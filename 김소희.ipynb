{
 "cells": [
  {
   "cell_type": "markdown",
   "metadata": {},
   "source": [
    "### 1번\n",
    "- 원의 반지름 입력받아 넓이 구하기"
   ]
  },
  {
   "cell_type": "code",
   "execution_count": 120,
   "metadata": {},
   "outputs": [
    {
     "name": "stdout",
     "output_type": "stream",
     "text": [
      "반지름 : 84.0\n",
      "원의 넓이 : 22167.07776372958\n"
     ]
    }
   ],
   "source": [
    "import math\n",
    "r  = float(input('반지름 : '))   #3.141592\n",
    "print('반지름 :',r)\n",
    "print('원의 넓이 :',r*r*math.pi)\n",
    "\n"
   ]
  },
  {
   "cell_type": "markdown",
   "metadata": {},
   "source": [
    "### 2번\n",
    "- 영어로 입력받은 행성명 한글로 변환"
   ]
  },
  {
   "cell_type": "code",
   "execution_count": 115,
   "metadata": {},
   "outputs": [
    {
     "name": "stdout",
     "output_type": "stream",
     "text": [
      "행성명 : Uranus\n",
      "천왕성입니다.\n"
     ]
    }
   ],
   "source": [
    "universe = ['Mercury', 'Venus', 'Earth', 'Mars', 'Jupiter',  'Saturn', 'Uranus', 'Neptune']\n",
    "# print(universe)\n",
    "u = input('행성 : ')\n",
    "print('행성명 :',u)\n",
    "if u == 'Mercury':\n",
    "     print('수성입니다.')\n",
    "elif u == 'Venus':\n",
    "     print('금성입니다.')\n",
    "elif u == 'Earth':\n",
    "     print('지구입니다.')\n",
    "elif u == 'Mars':\n",
    "     print('화성입니다.')\n",
    "elif u == 'Jupiter':\n",
    "     print('목성입니다.')\n",
    "elif u == 'Saturn':\n",
    "     print('토성입니다.')\n",
    "elif u == 'Uranus':\n",
    "     print('천왕성입니다.')\n",
    "else:\n",
    "     print('해왕성입니다.')\n"
   ]
  },
  {
   "cell_type": "code",
   "execution_count": null,
   "metadata": {},
   "outputs": [],
   "source": [
    "#2번 \n",
    "# ['Mercury', 'Venus', 'Earth', 'Mars', 'Jupiter',  'Saturn', 'Uranus', 'Neptune']\n",
    "# dictionary 자료구조\n",
    "solar_sys={'수성':'Mercury','금성':'Venus','지구':'Mars','화성':'Mars','목성':'Jupiter','토성':'Saturn','천왕성':'Uranus','해왕성':'Neptune'}\n"
   ]
  },
  {
   "cell_type": "markdown",
   "metadata": {},
   "source": [
    "### 3번\n",
    "- 영어문장 문자열 길이 카운트, 짝수번째만 대문자로 변환\n"
   ]
  },
  {
   "cell_type": "code",
   "execution_count": 173,
   "metadata": {},
   "outputs": [
    {
     "name": "stdout",
     "output_type": "stream",
     "text": [
      "[\"I'm\", 'going', 'to', 'leave', 'the', 'door', 'open']\n",
      "7\n",
      "[\"I'M\", 'GOING', 'TO', 'LEAVE', 'THE', 'DOOR', 'OPEN']\n"
     ]
    }
   ],
   "source": [
    "# I'm going to leave the door open\n",
    "txt = input('문장을 입력하세요. : ').split()\n",
    "print(str(txt))\n",
    "print(len(txt))\n",
    "\n",
    "for i in range(len(txt)):\n",
    "     txt[i]=txt[i].upper()\n",
    "     # print(txt[i])\n",
    "print(txt)\n"
   ]
  },
  {
   "cell_type": "code",
   "execution_count": 175,
   "metadata": {},
   "outputs": [
    {
     "name": "stdout",
     "output_type": "stream",
     "text": [
      "총 영어 단어 수 > 7\n",
      "I'm GOING to LEAVE the DOOR open "
     ]
    }
   ],
   "source": [
    "inputs = input('영어문장 ')\n",
    "temp = inputs.split()\n",
    "print(f'총 문장 길이 > {len(temp)}')\n",
    "\n",
    "i = 1\n",
    "for item in temp:\n",
    "     if (i%2==0):\n",
    "          print(item.upper(),end=' ')\n",
    "     else:\n",
    "          print(item,end=' ')\n",
    "     i+=1\n"
   ]
  },
  {
   "cell_type": "markdown",
   "metadata": {},
   "source": [
    "### 4번\n",
    "- 입력받은 숫자 거꾸로 정렬"
   ]
  },
  {
   "cell_type": "code",
   "execution_count": 129,
   "metadata": {},
   "outputs": [
    {
     "name": "stdout",
     "output_type": "stream",
     "text": [
      "123456789\n"
     ]
    }
   ],
   "source": [
    "num = int(input('출력할 숫자를 입력하세요. : '))\n",
    "print(int(str(num)[::-1]))\n",
    "\n",
    "#reverse 사용"
   ]
  },
  {
   "cell_type": "markdown",
   "metadata": {},
   "source": [
    "### 5번\n",
    "- 숫자 입력받아 구구단으로"
   ]
  },
  {
   "cell_type": "code",
   "execution_count": 114,
   "metadata": {},
   "outputs": [
    {
     "name": "stdout",
     "output_type": "stream",
     "text": [
      "6 단\n",
      "6 * 1 = 6\n",
      "6 * 2 = 12\n",
      "6 * 3 = 18\n",
      "6 * 4 = 24\n",
      "6 * 5 = 30\n",
      "6 * 6 = 36\n",
      "6 * 7 = 42\n",
      "6 * 8 = 48\n",
      "6 * 9 = 54\n",
      "6 * 10 = 60\n"
     ]
    }
   ],
   "source": [
    "num = int(input('구구단 : '))\n",
    "print(num,'단')\n",
    "for i in range(1,11):\n",
    "     print(num,'*',i,'=',num*i)"
   ]
  },
  {
   "cell_type": "code",
   "execution_count": null,
   "metadata": {},
   "outputs": [],
   "source": []
  }
 ],
 "metadata": {
  "kernelspec": {
   "display_name": "Python 3.10.5 64-bit",
   "language": "python",
   "name": "python3"
  },
  "language_info": {
   "codemirror_mode": {
    "name": "ipython",
    "version": 3
   },
   "file_extension": ".py",
   "mimetype": "text/x-python",
   "name": "python",
   "nbconvert_exporter": "python",
   "pygments_lexer": "ipython3",
   "version": "3.10.5"
  },
  "orig_nbformat": 4,
  "vscode": {
   "interpreter": {
    "hash": "beedbe2faf2f7048d727558d0bc3221e7eba2a0b921cac4d4771b2feb8f74b30"
   }
  }
 },
 "nbformat": 4,
 "nbformat_minor": 2
}
